{
 "cells": [
  {
   "cell_type": "markdown",
   "metadata": {},
   "source": [
    "# Central Line: Probe Orientation Classifier\n",
    "\n",
    "This notebook contains all the code neccesary to train and test the overall probe orientation classifier."
   ]
  },
  {
   "cell_type": "markdown",
   "metadata": {},
   "source": [
    "---\n",
    " \n",
    "## Define user parameters"
   ]
  },
  {
   "cell_type": "code",
   "execution_count": 1,
   "metadata": {},
   "outputs": [],
   "source": [
    "#Preprocessing paths\n",
    "preprocessing_input_dir = r\"C:\\repos\\aigt\\DeepLearnLive\\Datasets\\US_Vessel_Segmentations\"\n",
    "preprocessing_output_dir = r\"C:\\Users\\cbarr\\OneDrive - Queen's University\\Grad School\\Courses\\CISC 881\\Project\\Data\\ClassifierDataNp\"\n",
    "\n",
    "#Classifier paths\n",
    "unet_path = r\"C:\\Users\\cbarr\\OneDrive - Queen's University\\Grad School\\Courses\\CISC 881\\Project\\IMNO Outputs\\Central_Line_UNet_fold_0_2020-12-04_18-38-12\"\n",
    "data_input_dir = r\"C:\\Users\\cbarr\\OneDrive - Queen's University\\Grad School\\Courses\\CISC 881\\Project\\Data\\ClassifierDataNp\"\n",
    "\n",
    "#Learning parameters\n",
    "image_size = 128\n",
    "\n",
    "#Testing set participant indices\n",
    "test_idx = [15,16,17,18,19]"
   ]
  },
  {
   "cell_type": "markdown",
   "metadata": {},
   "source": [
    "---\n",
    "\n",
    "## Imports"
   ]
  },
  {
   "cell_type": "code",
   "execution_count": 2,
   "metadata": {},
   "outputs": [],
   "source": [
    "import os\n",
    "import sys\n",
    "from pathlib import Path\n",
    "import matplotlib.pyplot as plt\n",
    "import pandas as pd\n",
    "import tensorflow as tf\n",
    "import datetime\n",
    "from ipywidgets import IntProgress\n",
    "from IPython.display import display, HTML\n",
    "import numpy as np\n",
    "import cv2\n",
    "from sklearn.model_selection import train_test_split\n",
    "from sklearn.preprocessing import OneHotEncoder\n",
    "from tensorflow.keras.layers import Conv2D, Flatten, Dense, MaxPool2D, Input, GlobalAveragePooling2D, Lambda\n",
    "from tensorflow.keras.optimizers import Adam\n",
    "from tensorflow.keras.utils import Sequence\n",
    "import matplotlib.pyplot as plt\n",
    "import itertools\n",
    "from sklearn.metrics import classification_report, accuracy_score"
   ]
  },
  {
   "cell_type": "markdown",
   "metadata": {},
   "source": [
    "---\n",
    "\n",
    "## Preprocess data\n",
    "\n",
    "Process label and US image data, exporting to numpy arrays by sequence"
   ]
  },
  {
   "cell_type": "code",
   "execution_count": 27,
   "metadata": {},
   "outputs": [
    {
     "name": "stdout",
     "output_type": "stream",
     "text": [
      "current sequence name: MS01-20200210-132740\n",
      "MS01-20200210-132740 Ultrasound processing progress: \n"
     ]
    },
    {
     "data": {
      "application/vnd.jupyter.widget-view+json": {
       "model_id": "61d5e708e2a44b578ca441e78946cb9f",
       "version_major": 2,
       "version_minor": 0
      },
      "text/plain": [
       "IntProgress(value=0, max=1749)"
      ]
     },
     "metadata": {},
     "output_type": "display_data"
    },
    {
     "name": "stdout",
     "output_type": "stream",
     "text": [
      "current sequence name: MS01-20200210-133541\n",
      "MS01-20200210-133541 Ultrasound processing progress: \n"
     ]
    },
    {
     "data": {
      "application/vnd.jupyter.widget-view+json": {
       "model_id": "08bd068327514b12a9354699d38017f7",
       "version_major": 2,
       "version_minor": 0
      },
      "text/plain": [
       "IntProgress(value=0, max=1123)"
      ]
     },
     "metadata": {},
     "output_type": "display_data"
    },
    {
     "name": "stdout",
     "output_type": "stream",
     "text": [
      "current sequence name: MS01-20200210-134522\n",
      "MS01-20200210-134522 Ultrasound processing progress: \n"
     ]
    },
    {
     "data": {
      "application/vnd.jupyter.widget-view+json": {
       "model_id": "8474e6c170a44911948b1fb3fdbcf0d5",
       "version_major": 2,
       "version_minor": 0
      },
      "text/plain": [
       "IntProgress(value=0, max=1088)"
      ]
     },
     "metadata": {},
     "output_type": "display_data"
    },
    {
     "name": "stdout",
     "output_type": "stream",
     "text": [
      "current sequence name: MS01-20200210-135109\n",
      "MS01-20200210-135109 Ultrasound processing progress: \n"
     ]
    },
    {
     "data": {
      "application/vnd.jupyter.widget-view+json": {
       "model_id": "c571878c8e1d49aeb3c52d5b9b97b842",
       "version_major": 2,
       "version_minor": 0
      },
      "text/plain": [
       "IntProgress(value=0, max=1005)"
      ]
     },
     "metadata": {},
     "output_type": "display_data"
    },
    {
     "name": "stdout",
     "output_type": "stream",
     "text": [
      "current sequence name: MS01-20200210-135709\n",
      "MS01-20200210-135709 Ultrasound processing progress: \n"
     ]
    },
    {
     "data": {
      "application/vnd.jupyter.widget-view+json": {
       "model_id": "8486e7db537f46d68bce29e1486adfd5",
       "version_major": 2,
       "version_minor": 0
      },
      "text/plain": [
       "IntProgress(value=0, max=830)"
      ]
     },
     "metadata": {},
     "output_type": "display_data"
    },
    {
     "name": "stdout",
     "output_type": "stream",
     "text": [
      "current sequence name: MS02-20200210-152131\n",
      "MS02-20200210-152131 Ultrasound processing progress: \n"
     ]
    },
    {
     "data": {
      "application/vnd.jupyter.widget-view+json": {
       "model_id": "710afbecd1c14f8ca317d6013d2debf8",
       "version_major": 2,
       "version_minor": 0
      },
      "text/plain": [
       "IntProgress(value=0, max=1319)"
      ]
     },
     "metadata": {},
     "output_type": "display_data"
    },
    {
     "name": "stdout",
     "output_type": "stream",
     "text": [
      "current sequence name: MS02-20200210-152827\n",
      "MS02-20200210-152827 Ultrasound processing progress: \n"
     ]
    },
    {
     "data": {
      "application/vnd.jupyter.widget-view+json": {
       "model_id": "f1cce8c99219419a986f3a0f0a0c5978",
       "version_major": 2,
       "version_minor": 0
      },
      "text/plain": [
       "IntProgress(value=0, max=1059)"
      ]
     },
     "metadata": {},
     "output_type": "display_data"
    },
    {
     "name": "stdout",
     "output_type": "stream",
     "text": [
      "current sequence name: MS02-20200210-153709\n",
      "MS02-20200210-153709 Ultrasound processing progress: \n"
     ]
    },
    {
     "data": {
      "application/vnd.jupyter.widget-view+json": {
       "model_id": "ed320671b55449b89943e69292efdfb6",
       "version_major": 2,
       "version_minor": 0
      },
      "text/plain": [
       "IntProgress(value=0, max=979)"
      ]
     },
     "metadata": {},
     "output_type": "display_data"
    },
    {
     "name": "stdout",
     "output_type": "stream",
     "text": [
      "current sequence name: MS02-20200210-154411\n",
      "MS02-20200210-154411 Ultrasound processing progress: \n"
     ]
    },
    {
     "data": {
      "application/vnd.jupyter.widget-view+json": {
       "model_id": "c250fd617a544826aa112777c1368c60",
       "version_major": 2,
       "version_minor": 0
      },
      "text/plain": [
       "IntProgress(value=0, max=833)"
      ]
     },
     "metadata": {},
     "output_type": "display_data"
    },
    {
     "name": "stdout",
     "output_type": "stream",
     "text": [
      "current sequence name: MS02-20200210-160404\n",
      "MS02-20200210-160404 Ultrasound processing progress: \n"
     ]
    },
    {
     "data": {
      "application/vnd.jupyter.widget-view+json": {
       "model_id": "53094247e59e4c43b44e1b2405f7f75e",
       "version_major": 2,
       "version_minor": 0
      },
      "text/plain": [
       "IntProgress(value=0, max=1389)"
      ]
     },
     "metadata": {},
     "output_type": "display_data"
    },
    {
     "name": "stdout",
     "output_type": "stream",
     "text": [
      "current sequence name: MS03-20200213-152826\n",
      "MS03-20200213-152826 Ultrasound processing progress: \n"
     ]
    },
    {
     "data": {
      "application/vnd.jupyter.widget-view+json": {
       "model_id": "7a13f43c9dbc4f33a6148acc0bf51843",
       "version_major": 2,
       "version_minor": 0
      },
      "text/plain": [
       "IntProgress(value=0, max=1218)"
      ]
     },
     "metadata": {},
     "output_type": "display_data"
    },
    {
     "name": "stdout",
     "output_type": "stream",
     "text": [
      "current sequence name: MS03-20200213-153647\n",
      "MS03-20200213-153647 Ultrasound processing progress: \n"
     ]
    },
    {
     "data": {
      "application/vnd.jupyter.widget-view+json": {
       "model_id": "9774cc3a61c840efb74a84ea1a481dff",
       "version_major": 2,
       "version_minor": 0
      },
      "text/plain": [
       "IntProgress(value=0, max=1214)"
      ]
     },
     "metadata": {},
     "output_type": "display_data"
    },
    {
     "name": "stdout",
     "output_type": "stream",
     "text": [
      "current sequence name: MS03-20200213-154347\n",
      "MS03-20200213-154347 Ultrasound processing progress: \n"
     ]
    },
    {
     "data": {
      "application/vnd.jupyter.widget-view+json": {
       "model_id": "a89e9da1773e40a786fea6c6db6600a1",
       "version_major": 2,
       "version_minor": 0
      },
      "text/plain": [
       "IntProgress(value=0, max=1076)"
      ]
     },
     "metadata": {},
     "output_type": "display_data"
    },
    {
     "name": "stdout",
     "output_type": "stream",
     "text": [
      "current sequence name: MS03-20200213-155250\n",
      "MS03-20200213-155250 Ultrasound processing progress: \n"
     ]
    },
    {
     "data": {
      "application/vnd.jupyter.widget-view+json": {
       "model_id": "ae65940ad26f4abca697d53992105dda",
       "version_major": 2,
       "version_minor": 0
      },
      "text/plain": [
       "IntProgress(value=0, max=1256)"
      ]
     },
     "metadata": {},
     "output_type": "display_data"
    },
    {
     "name": "stdout",
     "output_type": "stream",
     "text": [
      "current sequence name: MS03-20200213-155823\n",
      "MS03-20200213-155823 Ultrasound processing progress: \n"
     ]
    },
    {
     "data": {
      "application/vnd.jupyter.widget-view+json": {
       "model_id": "403bd24c8ada4d2dbb7b8df307490b5f",
       "version_major": 2,
       "version_minor": 0
      },
      "text/plain": [
       "IntProgress(value=0, max=663)"
      ]
     },
     "metadata": {},
     "output_type": "display_data"
    },
    {
     "name": "stdout",
     "output_type": "stream",
     "text": [
      "current sequence name: MS04-20200213-173406\n",
      "MS04-20200213-173406 Ultrasound processing progress: \n"
     ]
    },
    {
     "data": {
      "application/vnd.jupyter.widget-view+json": {
       "model_id": "f2f585f68ca847eeac91704e7c75f36f",
       "version_major": 2,
       "version_minor": 0
      },
      "text/plain": [
       "IntProgress(value=0, max=1663)"
      ]
     },
     "metadata": {},
     "output_type": "display_data"
    },
    {
     "name": "stdout",
     "output_type": "stream",
     "text": [
      "current sequence name: MS04-20200213-174259\n",
      "MS04-20200213-174259 Ultrasound processing progress: \n"
     ]
    },
    {
     "data": {
      "application/vnd.jupyter.widget-view+json": {
       "model_id": "a5304b6d30344389b7edf627ae2cbf79",
       "version_major": 2,
       "version_minor": 0
      },
      "text/plain": [
       "IntProgress(value=0, max=1188)"
      ]
     },
     "metadata": {},
     "output_type": "display_data"
    },
    {
     "name": "stdout",
     "output_type": "stream",
     "text": [
      "current sequence name: MS04-20200213-175619\n",
      "MS04-20200213-175619 Ultrasound processing progress: \n"
     ]
    },
    {
     "data": {
      "application/vnd.jupyter.widget-view+json": {
       "model_id": "9447ee2643f045a6a7f985c0bf49dadd",
       "version_major": 2,
       "version_minor": 0
      },
      "text/plain": [
       "IntProgress(value=0, max=1070)"
      ]
     },
     "metadata": {},
     "output_type": "display_data"
    },
    {
     "name": "stdout",
     "output_type": "stream",
     "text": [
      "current sequence name: MS04-20200213-180237\n",
      "MS04-20200213-180237 Ultrasound processing progress: \n"
     ]
    },
    {
     "data": {
      "application/vnd.jupyter.widget-view+json": {
       "model_id": "7003bf7850b343a484a6b7c648508b4b",
       "version_major": 2,
       "version_minor": 0
      },
      "text/plain": [
       "IntProgress(value=0, max=1120)"
      ]
     },
     "metadata": {},
     "output_type": "display_data"
    },
    {
     "name": "stdout",
     "output_type": "stream",
     "text": [
      "current sequence name: MS04-20200213-180907\n",
      "MS04-20200213-180907 Ultrasound processing progress: \n"
     ]
    },
    {
     "data": {
      "application/vnd.jupyter.widget-view+json": {
       "model_id": "a1c4cac6b3ce4dd3b1a25efd381c1a24",
       "version_major": 2,
       "version_minor": 0
      },
      "text/plain": [
       "IntProgress(value=0, max=1070)"
      ]
     },
     "metadata": {},
     "output_type": "display_data"
    }
   ],
   "source": [
    "#Get all sequence names\n",
    "sequence_names = [name for name in os.listdir(preprocessing_input_dir)]\n",
    "\n",
    "#Returns the US images resizes to output_size and scaled to their max intensity\n",
    "def process_us(us_img, output_size):\n",
    "    resized_img = cv2.resize(us_img, (output_size, output_size)).astype(np.float16)\n",
    "    return resized_img / resized_img.max()\n",
    "\n",
    "#Returns a 3D stack of processed US images\n",
    "def accumulate_and_process(all_img_paths, processing_fxn, output_size, f): \n",
    "    data = np.array([], dtype=np.float64).reshape(output_size, output_size, 0)\n",
    "    for idx, img_path in enumerate(all_img_paths):        #Go through all images in folder\n",
    "        f.value = idx                                     #Update value of loading bar\n",
    "        img = cv2.imread(os.path.abspath(img_path), 0)    #Read in an image\n",
    "        processed_img = processing_fxn(img, output_size)  #Process the image\n",
    "        data = np.dstack((data, processed_img))           #Add the image to the stack\n",
    "    return data\n",
    "\n",
    "#Go through all sequences\n",
    "for seq in sequence_names:\n",
    "    \n",
    "    print(\"current sequence name: \" + seq)\n",
    "    \n",
    "    #Get all png image paths within the folder.\n",
    "    us_paths = list(Path(preprocessing_input_dir + \"\\\\\" + seq).glob(seq+\"_[0-9][0-9][0-9][0-9][0-9].png\"))\n",
    "    \n",
    "    #Update a progress bar\n",
    "    f_us = IntProgress(min=0, max=len(us_paths))                    \n",
    "    print(seq + \" Ultrasound processing progress: \")\n",
    "    display(f_us)\n",
    "                         \n",
    "    #Accumulate and process images\n",
    "    us_data = accumulate_and_process(us_paths, process_us, image_size, f_us)\n",
    "    \n",
    "    #Read in the labels for this data\n",
    "    labels_path = os.path.join((preprocessing_input_dir + \"\\\\\" + seq), (seq+\"_Labels.csv\"))\n",
    "    labels_df = pd.read_csv(labels_path)\n",
    "    \n",
    "    #Save the numpy files\n",
    "    output_us_path = os.path.join(preprocessing_output_dir, seq +\"_ultrasound\" )\n",
    "    output_seg_path = os.path.join(preprocessing_output_dir, seq+\"_label\" )\n",
    "    np.save(output_us_path, us_data)\n",
    "    np.save(output_seg_path, labels_df)"
   ]
  },
  {
   "cell_type": "markdown",
   "metadata": {},
   "source": [
    "---\n",
    "\n",
    "## Read in data"
   ]
  },
  {
   "cell_type": "code",
   "execution_count": 3,
   "metadata": {},
   "outputs": [],
   "source": [
    "#Read the US image and segmentations paths into lists\n",
    "label_files = list(sorted(Path(data_input_dir).glob(\"*_label.npy\")))\n",
    "us_files = list(sorted(Path(data_input_dir).glob(\"*_ultrasound.npy\")))\n",
    "\n",
    "#Go through all file paths in both arrays and append to list\n",
    "us_data_by_seq = []\n",
    "label_by_seq = []\n",
    "for i in range(len(us_files)):\n",
    "    \n",
    "    #Load the current files as 3D numpy arrays\n",
    "    us_np = np.load(os.path.abspath(us_files[i]))\n",
    "    label_np = np.load(os.path.abspath(label_files[i]), allow_pickle=True)\n",
    "    \n",
    "    #Normalize and add channel dimension\n",
    "    us_np = us_np[...,np.newaxis] / 255\n",
    "    \n",
    "    #Append to the collector lists.\n",
    "    us_data_by_seq.append(us_np.transpose(2,1,0,3))\n",
    "    label_by_seq.append(label_np[:,4])\n",
    "    \n",
    "#Verify that the total number of segmentation images matches the total number of us images.\n",
    "for idx in range(len(us_data_by_seq)):\n",
    "    if label_by_seq[idx].shape[0] != us_data_by_seq[idx].shape[0]:\n",
    "        print(\"Data Problem: Dataset {} has {} ultrasounds and {} labels\". format(\n",
    "            idx, us_data_by_seq[idx].shape[0], len(label_by_seq[idx])))"
   ]
  },
  {
   "cell_type": "markdown",
   "metadata": {},
   "source": [
    "---\n",
    "\n",
    "## Seperate into training / validation / testing sets"
   ]
  },
  {
   "cell_type": "code",
   "execution_count": 4,
   "metadata": {},
   "outputs": [
    {
     "name": "stderr",
     "output_type": "stream",
     "text": [
      "C:\\repos\\dlenv\\lib\\site-packages\\numpy\\core\\_asarray.py:83: VisibleDeprecationWarning: Creating an ndarray from ragged nested sequences (which is a list-or-tuple of lists-or-tuples-or ndarrays with different lengths or shapes) is deprecated. If you meant to do this, you must specify 'dtype=object' when creating the ndarray\n",
      "  return array(a, dtype, copy=False, order=order)\n"
     ]
    },
    {
     "name": "stdout",
     "output_type": "stream",
     "text": [
      "Trained on 13440 images, validated on 3361 images, tested on 6111 images.\n"
     ]
    }
   ],
   "source": [
    "#Create lists of indices for training and validation sets\n",
    "trainAndVal_idx = list(range(len(us_data_by_seq)))\n",
    "trainAndVal_idx = [x for x in trainAndVal_idx if x not in test_idx] #Remove IDs\n",
    "\n",
    "#Extract and concatenate the labels for train / test / val\n",
    "y_trainAndVal = np.concatenate(np.take(label_by_seq, trainAndVal_idx), axis=0)\n",
    "y_test = np.concatenate(np.take(label_by_seq, test_idx), axis=0)\n",
    "\n",
    "#Extract and concatenate the ultrasound images for train / test / val\n",
    "X_trainAndVal = np.concatenate(np.take(us_data_by_seq, trainAndVal_idx), axis=0)\n",
    "X_test = np.concatenate(np.take(us_data_by_seq, test_idx), axis=0)\n",
    "\n",
    "#Extract training and validation sets from trainAndVal using 80/20 split\n",
    "X_train, X_val, y_train, y_val = train_test_split(X_trainAndVal, y_trainAndVal, test_size=0.2, random_state=2)\n",
    "\n",
    "#get rid of any nans\n",
    "y_train[pd.isnull(y_train)] = 'Undefined'\n",
    "y_val[pd.isnull(y_val)] = 'Undefined'\n",
    "y_test[pd.isnull(y_test)] = 'Undefined'\n",
    "\n",
    "#onehot encode the labels\n",
    "encoder = OneHotEncoder(handle_unknown='ignore')\n",
    "y_train = encoder.fit_transform(y_train.reshape(-1,1)).toarray()\n",
    "y_val = encoder.fit_transform(y_val.reshape(-1,1)).toarray()\n",
    "y_test = encoder.fit_transform(y_test.reshape(-1,1)).toarray()\n",
    "\n",
    "print(\"Trained on {} images, validated on {} images, tested on {} images.\".format(X_train.shape[0],\n",
    "                                                                                 X_val.shape[0],\n",
    "                                                                                 X_test.shape[0]))"
   ]
  },
  {
   "cell_type": "markdown",
   "metadata": {},
   "source": [
    "---\n",
    "\n",
    "## Define network architecture"
   ]
  },
  {
   "cell_type": "code",
   "execution_count": 5,
   "metadata": {},
   "outputs": [
    {
     "name": "stdout",
     "output_type": "stream",
     "text": [
      "Model: \"model\"\n",
      "_________________________________________________________________\n",
      "Layer (type)                 Output Shape              Param #   \n",
      "=================================================================\n",
      "input_1 (InputLayer)         [(None, 128, 128, 1)]     0         \n",
      "_________________________________________________________________\n",
      "model (Model)                (None, 128, 128, 2)       304902    \n",
      "_________________________________________________________________\n",
      "conv2d (Conv2D)              (None, 126, 126, 8)       152       \n",
      "_________________________________________________________________\n",
      "conv2d_1 (Conv2D)            (None, 124, 124, 8)       584       \n",
      "_________________________________________________________________\n",
      "max_pooling2d (MaxPooling2D) (None, 41, 41, 8)         0         \n",
      "_________________________________________________________________\n",
      "flatten (Flatten)            (None, 13448)             0         \n",
      "_________________________________________________________________\n",
      "dense (Dense)                (None, 64)                860736    \n",
      "_________________________________________________________________\n",
      "dense_1 (Dense)              (None, 3)                 195       \n",
      "=================================================================\n",
      "Total params: 1,166,569\n",
      "Trainable params: 861,667\n",
      "Non-trainable params: 304,902\n",
      "_________________________________________________________________\n"
     ]
    }
   ],
   "source": [
    "#Read in the unet model and freeze weights\n",
    "unet_model =  tf.keras.models.load_model(unet_path, compile=False)\n",
    "unet_model.trainable = False\n",
    "\n",
    "#Input layer; takes in US image\n",
    "input_layer = Input(shape=(image_size, image_size, 1))\n",
    "\n",
    "#Unet Layer; takes image, return segmentation\n",
    "unet_layer = unet_model(inputs=input_layer)\n",
    "\n",
    "#First convolutional layer; recieves both segmentations from U-Net\n",
    "cov2d_1 = Conv2D(8, (3, 3), activation='relu')(unet_layer)  \n",
    "\n",
    "#Second convolutional layer\n",
    "cov2d_2 = Conv2D(8, (3, 3), activation='relu')(cov2d_1)  \n",
    "\n",
    "#Max pool layer\n",
    "pl = MaxPool2D((3, 3))(cov2d_2)   \n",
    "\n",
    "#Flatten layer\n",
    "fl = Flatten()(pl)\n",
    "\n",
    "#First dense layer\n",
    "d1 = Dense(64, activation='relu')(fl)\n",
    "\n",
    "#Dense layer with softmax activation\n",
    "d2 = Dense(3, activation='softmax')(d1)\n",
    "\n",
    "#Build the model from the input and output layers\n",
    "model = tf.keras.Model(\n",
    "    inputs=input_layer,\n",
    "    outputs=d2,\n",
    ")\n",
    "\n",
    "#Compile the model\n",
    "model.compile(\n",
    "    optimizer=Adam(),\n",
    "    loss='categorical_crossentropy',\n",
    "    metrics=['accuracy'],\n",
    ")\n",
    "\n",
    "model.summary()"
   ]
  },
  {
   "cell_type": "markdown",
   "metadata": {},
   "source": [
    "---\n",
    "\n",
    "## Train the model"
   ]
  },
  {
   "cell_type": "code",
   "execution_count": 6,
   "metadata": {},
   "outputs": [
    {
     "name": "stdout",
     "output_type": "stream",
     "text": [
      "Train on 13440 samples, validate on 3361 samples\n",
      "Epoch 1/10\n",
      "13440/13440 [==============================] - 115s 9ms/sample - loss: 0.4307 - accuracy: 0.8627 - val_loss: 0.2114 - val_accuracy: 0.9393\n",
      "Epoch 2/10\n",
      "13440/13440 [==============================] - 111s 8ms/sample - loss: 0.1899 - accuracy: 0.9529 - val_loss: 0.1938 - val_accuracy: 0.9491\n",
      "Epoch 3/10\n",
      "13440/13440 [==============================] - 110s 8ms/sample - loss: 0.1765 - accuracy: 0.9576 - val_loss: 0.1813 - val_accuracy: 0.9554\n",
      "Epoch 4/10\n",
      "13440/13440 [==============================] - 111s 8ms/sample - loss: 0.1647 - accuracy: 0.9597 - val_loss: 0.1783 - val_accuracy: 0.9551\n",
      "Epoch 5/10\n",
      "13440/13440 [==============================] - 112s 8ms/sample - loss: 0.1559 - accuracy: 0.9626 - val_loss: 0.1676 - val_accuracy: 0.9598\n",
      "Epoch 6/10\n",
      "13440/13440 [==============================] - 112s 8ms/sample - loss: 0.1486 - accuracy: 0.9647 - val_loss: 0.1680 - val_accuracy: 0.9598\n",
      "Epoch 7/10\n",
      "13440/13440 [==============================] - 114s 8ms/sample - loss: 0.1436 - accuracy: 0.9667 - val_loss: 0.1638 - val_accuracy: 0.9595\n",
      "Epoch 8/10\n",
      "13440/13440 [==============================] - 114s 9ms/sample - loss: 0.1417 - accuracy: 0.9672 - val_loss: 0.1626 - val_accuracy: 0.9607\n",
      "Epoch 9/10\n",
      "13440/13440 [==============================] - 115s 9ms/sample - loss: 0.1367 - accuracy: 0.9695 - val_loss: 0.1660 - val_accuracy: 0.9604\n",
      "Epoch 10/10\n",
      "13440/13440 [==============================] - 115s 9ms/sample - loss: 0.1366 - accuracy: 0.9695 - val_loss: 0.1666 - val_accuracy: 0.9601\n"
     ]
    }
   ],
   "source": [
    "history = model.fit(x=X_train, \n",
    "                    y=y_train, \n",
    "                    validation_data=(X_val, y_val),\n",
    "                    batch_size=300,\n",
    "                    epochs=10,\n",
    "                    verbose=1,\n",
    "                    callbacks=[\n",
    "                        tf.keras.callbacks.EarlyStopping(monitor='accuracy', patience=3, restore_best_weights=True)\n",
    "                    ]\n",
    ")"
   ]
  },
  {
   "cell_type": "markdown",
   "metadata": {},
   "source": [
    "---\n",
    "\n",
    "## Evaluate the model performance on the test set"
   ]
  },
  {
   "cell_type": "code",
   "execution_count": 7,
   "metadata": {},
   "outputs": [
    {
     "name": "stdout",
     "output_type": "stream",
     "text": [
      "6111/6111 [==============================] - 23s 4ms/sample - loss: 0.3318 - accuracy: 0.9383\n"
     ]
    }
   ],
   "source": [
    "results = model.evaluate(X_test, y_test, batch_size=300)"
   ]
  },
  {
   "cell_type": "markdown",
   "metadata": {},
   "source": [
    "---\n",
    "\n",
    "## Print test set statistics"
   ]
  },
  {
   "cell_type": "code",
   "execution_count": 20,
   "metadata": {},
   "outputs": [
    {
     "name": "stdout",
     "output_type": "stream",
     "text": [
      "               precision    recall  f1-score   support\n",
      "\n",
      "Cross-section       0.93      0.92      0.92      2279\n",
      "    Long-axis       0.74      0.52      0.61       284\n",
      "    Undefined       0.94      0.97      0.96      3548\n",
      "\n",
      "     accuracy                           0.93      6111\n",
      "    macro avg       0.87      0.80      0.83      6111\n",
      " weighted avg       0.93      0.93      0.93      6111\n",
      "\n"
     ]
    }
   ],
   "source": [
    "#Get test set predictions\n",
    "test_pred = model.predict(X_test)\n",
    "test_pred_labels = tf.argmax(test_pred, axis=1)\n",
    "test_actual_labels = tf.argmax(y_test, axis=1)\n",
    "num_classes = 3\n",
    "\n",
    "#Get the classification report for the 3 pose classes\n",
    "target_names = ['Cross-section', 'Long-axis', 'Undefined']\n",
    "print(classification_report(test_actual_labels, test_pred_labels, target_names=target_names))"
   ]
  },
  {
   "cell_type": "markdown",
   "metadata": {},
   "source": [
    "---\n",
    "\n",
    "## Generate test set confusion matrix"
   ]
  },
  {
   "cell_type": "code",
   "execution_count": 23,
   "metadata": {},
   "outputs": [
    {
     "name": "stdout",
     "output_type": "stream",
     "text": [
      "Normalized confusion matrix\n",
      "[[0.91794647 0.01491882 0.06713471]\n",
      " [0.28521127 0.52112676 0.19366197]\n",
      " [0.02085682 0.00535513 0.97378805]]\n"
     ]
    },
    {
     "data": {
      "image/png": "[encoded data removed]",
      "text/plain": [
       "<Figure size 432x288 with 2 Axes>"
      ]
     },
     "metadata": {
      "needs_background": "light"
     },
     "output_type": "display_data"
    }
   ],
   "source": [
    "#Generate confusion matrix\n",
    "confusion_matrix = tf.math.confusion_matrix(test_actual_labels, test_pred_labels , 3)\n",
    "\n",
    "#Specify plot properties\n",
    "plt.rc('font', size=10)         \n",
    "plt.rc('axes', titlesize=17)    \n",
    "plt.rc('axes', labelsize=14)    \n",
    "plt.rc('xtick', labelsize=10)    \n",
    "plt.rc('ytick', labelsize=10)   \n",
    "plt.rc('legend', fontsize=10)   \n",
    "plt.rc('figure', titlesize=17)  \n",
    "\n",
    "#Define function for printing a confusion matrix\n",
    "def plot_confusion_matrix(cm, classes,\n",
    "                        normalize=False,\n",
    "                        title='Confusion matrix',\n",
    "                        cmap=plt.cm.Blues,\n",
    "                        save_fig = False):\n",
    "\n",
    "    plt.imshow(cm, interpolation='nearest', cmap=cmap)\n",
    "    plt.title(title)\n",
    "    plt.colorbar()\n",
    "    tick_marks = np.arange(len(classes))\n",
    "    plt.xticks(tick_marks, classes, rotation=45)\n",
    "    plt.yticks(tick_marks, classes)\n",
    "\n",
    "    if normalize:\n",
    "        cm = cm.astype('float') / cm.sum(axis=1)[:, np.newaxis]\n",
    "        print(\"Normalized confusion matrix\")\n",
    "    else:\n",
    "        print('Confusion matrix, without normalization')\n",
    "\n",
    "    print(cm)\n",
    "\n",
    "    thresh = cm.max() / 2.\n",
    "    for i, j in itertools.product(range(cm.shape[0]), range(cm.shape[1])):\n",
    "        plt.text(j, i, round(cm[i, j], 3),\n",
    "            horizontalalignment=\"center\",\n",
    "            color=\"white\" if cm[i, j] > thresh else \"black\")\n",
    "\n",
    "    plt.tight_layout()\n",
    "    plt.ylabel('True label')\n",
    "    plt.xlabel('Predicted label')\n",
    "    \n",
    "    if save_fig:\n",
    "        plt.savefig(\"Confusion_Matrix.pdf\", bbox_inches = \"tight\")\n",
    "\n",
    "#Print the confusion matrix\n",
    "plot_confusion_matrix(confusion_matrix.numpy(), \n",
    "                      [\"Cross-section\", \"Long-axis\", \"Undefined\"], \n",
    "                      normalize=True,\n",
    "                     title='Test Set Confusion Matrix',\n",
    "                     save_fig=False)"
   ]
  }
 ],
 "metadata": {
  "kernelspec": {
   "display_name": "Python [conda env:dlenv]",
   "language": "python",
   "name": "conda-env-dlenv-py"
  },
  "language_info": {
   "codemirror_mode": {
    "name": "ipython",
    "version": 3
   },
   "file_extension": ".py",
   "mimetype": "text/x-python",
   "name": "python",
   "nbconvert_exporter": "python",
   "pygments_lexer": "ipython3",
   "version": "3.7.9"
  }
 },
 "nbformat": 4,
 "nbformat_minor": 4
}
